
Open In Colab
Working with Data using Pandas
Definition: Pandas is a powerful and flexible open-source data analysis and manipulation library for Python. It provides data structures like Series (one-dimensional) and DataFrame (two-dimensional) that are efficient for handling large datasets. Pandas allows for data manipulation, aggregation, and merging.

Use Case in Real Life: Pandas can be used in various data analysis scenarios, such as customer data analysis, financial data analysis, and marketing campaign analysis.

Creating a DataFrame from a Dictionary

import pandas as pd

# Creating a DataFrame from a dictionary
data = {
    'Name': ['Alice', 'Bob', 'Charlie'],
    'Age': [25, 30, 35],
    'City': ['New York', 'Los Angeles', 'Chicago']
}

df = pd.DataFrame(data)
print(df)
     
      Name  Age         City
0    Alice   25     New York
1      Bob   30  Los Angeles
2  Charlie   35      Chicago
Creating a DataFrame from a List of Dictionaries

data = [
    {'Name': 'Alice', 'Age': 25, 'City': 'New York'},
    {'Name': 'Bob', 'Age': 30, 'City': 'Los Angeles'},
    {'Name': 'Charlie', 'Age': 35, 'City': 'Chicago'}
]

df = pd.DataFrame(data)
print(df)
     
      Name  Age         City
0    Alice   25     New York
1      Bob   30  Los Angeles
2  Charlie   35      Chicago
Creating a DataFrame from a CSV File

# Assuming 'data.csv' is a CSV file in the current directory
df = pd.read_csv('dataset.csv')
print(df)
     
      Name  Age           City
0    Alice   25       New York
1      Bob   30    Los Angeles
2  Charlie   35        Chicago
3    David   40        Houston
4      Eve   28  San Francisco
Viewing Data

# Displaying the first few rows
print(df.head())
     
      Name  Age           City
0    Alice   25       New York
1      Bob   30    Los Angeles
2  Charlie   35        Chicago
3    David   40        Houston
4      Eve   28  San Francisco

# Displaying the last few rows
print(df.tail())
     
      Name  Age           City
0    Alice   25       New York
1      Bob   30    Los Angeles
2  Charlie   35        Chicago
3    David   40        Houston
4      Eve   28  San Francisco

# Getting information about the DataFrame
print(df.info())
     
<class 'pandas.core.frame.DataFrame'>
RangeIndex: 5 entries, 0 to 4
Data columns (total 3 columns):
 #   Column  Non-Null Count  Dtype 
---  ------  --------------  ----- 
 0   Name    5 non-null      object
 1   Age     5 non-null      int64 
 2   City    5 non-null      object
dtypes: int64(1), object(2)
memory usage: 248.0+ bytes
None

# Descriptive statistics
print(df.describe())
     
            Age
count   5.00000
mean   31.60000
std     5.94138
min    25.00000
25%    28.00000
50%    30.00000
75%    35.00000
max    40.00000
Selecting Columns

df
     
Name	Age	City
0	Alice	26	New York
2	Charlie	36	Chicago
3	David	41	Houston
4	Eve	29	San Francisco

# Selecting a single column
print(df['Name'])
     
0      Alice
1        Bob
2    Charlie
3      David
4        Eve
Name: Name, dtype: object

# Selecting multiple columns
print(df[['Name', 'City']])
     
      Name           City
0    Alice       New York
1      Bob    Los Angeles
2  Charlie        Chicago
3    David        Houston
4      Eve  San Francisco
Filtering Rows

# Filtering rows based on a condition
print(df[df['Age'] > 30])
     
      Name  Age     City
2  Charlie   35  Chicago
3    David   40  Houston

df
     
Name	Age	City
0	Alice	25	New York
1	Bob	30	Los Angeles
2	Charlie	35	Chicago
3	David	40	Houston
4	Eve	28	San Francisco
Adding New Columns

# Adding a new column
df['Salary'] = [50000, 60000, 70000,80000,90000]
print(df)
     
      Name  Age           City  Salary
0    Alice   25       New York   50000
1      Bob   30    Los Angeles   60000
2  Charlie   35        Chicago   70000
3    David   40        Houston   80000
4      Eve   28  San Francisco   90000
Modifying Existing Columns

# Modifying an existing column
df['Age'] = df['Age'] + 1
print(df)
     
      Name  Age           City  Salary
0    Alice   26       New York   50000
1      Bob   31    Los Angeles   60000
2  Charlie   36        Chicago   70000
3    David   41        Houston   80000
4      Eve   29  San Francisco   90000
Dropping Columns and Rows

# Dropping a column
df = df.drop(columns=['Salary'])
print(df)
     
      Name  Age           City
0    Alice   26       New York
1      Bob   31    Los Angeles
2  Charlie   36        Chicago
3    David   41        Houston
4      Eve   29  San Francisco

# Dropping a row
df = df.drop(index=1)
print(df)
     
      Name  Age           City
0    Alice   26       New York
2  Charlie   36        Chicago
3    David   41        Houston
4      Eve   29  San Francisco
Grouping Data

# Grouping data by a column
grouped = df.groupby('City')
print(grouped['Age'].mean())
     
City
Chicago          36.0
Houston          41.0
New York         26.0
San Francisco    29.0
Name: Age, dtype: float64
Aggregating Data

# Aggregating data using multiple functions
aggregated = df.groupby('City').agg({'Age': ['mean', 'min', 'max']})
print(aggregated)
     
                Age        
               mean min max
City                       
Chicago        36.0  36  36
Houston        41.0  41  41
New York       26.0  26  26
San Francisco  29.0  29  29
Merging DataFrames

df1 = pd.DataFrame({'ID': [1, 2, 3], 'Name': ['Alice', 'Bob', 'Charlie']})
df2 = pd.DataFrame({'ID': [1, 2, 4], 'Salary': [50000, 60000, 70000]})

# Merging DataFrames on a common column
merged_df = pd.merge(df1, df2, on='ID', how='outer')
print(merged_df)
     
   ID     Name   Salary
0   1    Alice  50000.0
1   2      Bob  60000.0
2   3  Charlie      NaN
3   4      NaN  70000.0

df1
     
ID	Name
0	1	Alice
1	2	Bob
2	3	Charlie

df2
     
ID	Salary
0	1	50000
1	2	60000
2	4	70000
Joining DataFrames

df1 = pd.DataFrame({'Name': ['Alice', 'Bob'], 'Age': [25, 30]}, index=[0, 1])
df2 = pd.DataFrame({'City': ['New York', 'Los Angeles']}, index=[0, 2])

# Joining DataFrames on their index
joined_df = df1.join(df2, how='left')
print(joined_df)
     
    Name  Age      City
0  Alice   25  New York
1    Bob   30       NaN
Thank You
